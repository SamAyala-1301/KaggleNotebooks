{
 "cells": [
  {
   "cell_type": "markdown",
   "id": "b2d51469",
   "metadata": {
    "papermill": {
     "duration": 0.005488,
     "end_time": "2024-12-30T09:37:11.877923",
     "exception": false,
     "start_time": "2024-12-30T09:37:11.872435",
     "status": "completed"
    },
    "tags": []
   },
   "source": [
    "Getting Started\n",
    "\n",
    "\t1.\tLoaded the Data\n",
    "\t•\tpd.read_csv was used to load the training and test datasets.\n",
    "\t•\tAlways keep a backup of the original data (main_df) in case things go wrong.\n",
    "\t2.\tHandling Missing Values\n",
    "\t•\tWhy? Many columns had missing values (NaN), which can break the model. We handled them:\n",
    "\t•\tNumerical Columns: Replaced missing values with the mean, as this preserves numerical stability.\n",
    "\t•\tCategorical Columns: Replaced missing values with the mode (most frequent value), as this is the safest assumption for categories.\n",
    "\t•\tDropped columns with too many missing values (like Alley and PoolQC) and those not helpful for predictions (like Id).\n",
    "\t3.\tEncoding Categorical Variables\n",
    "\t•\tWhy? Machine learning models, including XGBoost, work with numbers, not text. So, categorical columns were converted to numerical ones using one-hot encoding via pd.get_dummies.\n",
    "\t4.\tCombining Train and Test Data\n",
    "\t•\tWhy? One-hot encoding should treat train and test data the same. Concatenating both ensures consistent handling of categories.\n",
    "\n",
    "Building the Model\n",
    "\n",
    "\t1.\tTrain-Test Split\n",
    "\t•\tThe training data was split into X_train (features) and y_train (target variable, SalePrice).\n",
    "\t•\tFor validation, a portion of the training data (X_val and y_val) was set aside to check how the model performs on unseen data.\n",
    "\t2.\tUsing XGBoost\n",
    "\t•\tWhy XGBoost?\n",
    "\t•\tIt’s fast and works well with tabular data.\n",
    "\t•\tIt handles missing values automatically (a big plus here).\n",
    "\t•\tIt’s ensemble-based, meaning it combines predictions from many small decision trees for better accuracy.\n",
    "\t•\tBuilt-in features like regularization help avoid overfitting.\n",
    "\t•\tThe XGBRegressor was used because we’re solving a regression problem (predicting house prices).\n",
    "\t3.\tRandom State = 42\n",
    "\t•\tWhy? Ensures the train-test split and model randomness are consistent across runs.\n",
    "\t•\t42 is a commonly used seed value (popularized as a reference to “The Hitchhiker’s Guide to the Galaxy”) but you could use any number.\n",
    "\t4.\tModel Training\n",
    "\t•\tThe classifier.fit() method trained the model on X_train and y_train.\n",
    "\t5.\tValidation\n",
    "\t•\tPredicted house prices (y_pred) for the validation set.\n",
    "\t•\tEvaluated the performance using RMSE (Root Mean Squared Error), a common metric for regression problems.\n",
    "Final Steps\n",
    "\n",
    "\t1.\tPredictions\n",
    "\t•\tUsed the trained model to predict prices for the test dataset (df_test).\n",
    "\t2.\tSubmission File\n",
    "\t•\tCreated a .csv file for submission with Id and SalePrice, following Kaggle’s format."
   ]
  },
  {
   "cell_type": "code",
   "execution_count": 1,
   "id": "06b05381",
   "metadata": {
    "execution": {
     "iopub.execute_input": "2024-12-30T09:37:11.889285Z",
     "iopub.status.busy": "2024-12-30T09:37:11.888874Z",
     "iopub.status.idle": "2024-12-30T09:37:14.807925Z",
     "shell.execute_reply": "2024-12-30T09:37:14.806371Z"
    },
    "papermill": {
     "duration": 2.928067,
     "end_time": "2024-12-30T09:37:14.810652",
     "exception": false,
     "start_time": "2024-12-30T09:37:11.882585",
     "status": "completed"
    },
    "tags": []
   },
   "outputs": [],
   "source": [
    "# Importing necessary libraries\n",
    "import pandas as pd\n",
    "import numpy as np\n",
    "import xgboost\n",
    "from sklearn.model_selection import train_test_split\n",
    "from sklearn.metrics import mean_squared_error"
   ]
  },
  {
   "cell_type": "code",
   "execution_count": 2,
   "id": "2c2db244",
   "metadata": {
    "execution": {
     "iopub.execute_input": "2024-12-30T09:37:14.821887Z",
     "iopub.status.busy": "2024-12-30T09:37:14.821300Z",
     "iopub.status.idle": "2024-12-30T09:37:14.899125Z",
     "shell.execute_reply": "2024-12-30T09:37:14.897987Z"
    },
    "papermill": {
     "duration": 0.085693,
     "end_time": "2024-12-30T09:37:14.901335",
     "exception": false,
     "start_time": "2024-12-30T09:37:14.815642",
     "status": "completed"
    },
    "tags": []
   },
   "outputs": [],
   "source": [
    "# Load datasets\n",
    "df = pd.read_csv('/kaggle/input/house-prices-advanced-regression-techniques/train.csv')\n",
    "test_df = pd.read_csv('/kaggle/input/house-prices-advanced-regression-techniques/test.csv')\n",
    "\n",
    "# Backup the original data\n",
    "main_df = df.copy()"
   ]
  },
  {
   "cell_type": "code",
   "execution_count": 3,
   "id": "76d1d3ec",
   "metadata": {
    "execution": {
     "iopub.execute_input": "2024-12-30T09:37:14.911738Z",
     "iopub.status.busy": "2024-12-30T09:37:14.911343Z",
     "iopub.status.idle": "2024-12-30T09:37:14.916957Z",
     "shell.execute_reply": "2024-12-30T09:37:14.915847Z"
    },
    "papermill": {
     "duration": 0.013031,
     "end_time": "2024-12-30T09:37:14.918978",
     "exception": false,
     "start_time": "2024-12-30T09:37:14.905947",
     "status": "completed"
    },
    "tags": []
   },
   "outputs": [],
   "source": [
    "# Handling Missing Values\n",
    "def fill_missing(df, col, method=\"mean\"):\n",
    "    if method == \"mean\":\n",
    "        df[col] = df[col].fillna(df[col].mean())\n",
    "    elif method == \"mode\":\n",
    "        df[col] = df[col].fillna(df[col].mode()[0])\n",
    "    return df"
   ]
  },
  {
   "cell_type": "code",
   "execution_count": 4,
   "id": "32c904f5",
   "metadata": {
    "execution": {
     "iopub.execute_input": "2024-12-30T09:37:14.929737Z",
     "iopub.status.busy": "2024-12-30T09:37:14.929285Z",
     "iopub.status.idle": "2024-12-30T09:37:14.955831Z",
     "shell.execute_reply": "2024-12-30T09:37:14.954495Z"
    },
    "papermill": {
     "duration": 0.034638,
     "end_time": "2024-12-30T09:37:14.958092",
     "exception": false,
     "start_time": "2024-12-30T09:37:14.923454",
     "status": "completed"
    },
    "tags": []
   },
   "outputs": [],
   "source": [
    "# Numerical columns\n",
    "num_cols = ['LotFrontage', 'MasVnrArea']\n",
    "for col in num_cols:\n",
    "    df = fill_missing(df, col, method=\"mean\")\n",
    "\n",
    "# Categorical columns\n",
    "cat_cols = ['BsmtCond', 'BsmtQual', 'FireplaceQu', 'GarageType', 'GarageFinish',\n",
    "            'GarageQual', 'GarageCond', 'BsmtExposure', 'BsmtFinType2', 'MasVnrType']\n",
    "for col in cat_cols:\n",
    "    df = fill_missing(df, col, method=\"mode\")"
   ]
  },
  {
   "cell_type": "code",
   "execution_count": 5,
   "id": "263973c8",
   "metadata": {
    "execution": {
     "iopub.execute_input": "2024-12-30T09:37:14.968286Z",
     "iopub.status.busy": "2024-12-30T09:37:14.967871Z",
     "iopub.status.idle": "2024-12-30T09:37:14.989049Z",
     "shell.execute_reply": "2024-12-30T09:37:14.987924Z"
    },
    "papermill": {
     "duration": 0.028566,
     "end_time": "2024-12-30T09:37:14.991141",
     "exception": false,
     "start_time": "2024-12-30T09:37:14.962575",
     "status": "completed"
    },
    "tags": []
   },
   "outputs": [],
   "source": [
    "# Dropping unnecessary columns\n",
    "columns_to_drop = ['Alley', 'GarageYrBlt', 'PoolQC', 'Fence', 'MiscFeature', 'Id']\n",
    "df.drop(columns=columns_to_drop, axis=1, inplace=True)\n",
    "\n",
    "# Drop rows with any remaining missing values\n",
    "df.dropna(inplace=True)"
   ]
  },
  {
   "cell_type": "code",
   "execution_count": 6,
   "id": "53b70dda",
   "metadata": {
    "execution": {
     "iopub.execute_input": "2024-12-30T09:37:15.001259Z",
     "iopub.status.busy": "2024-12-30T09:37:15.000808Z",
     "iopub.status.idle": "2024-12-30T09:37:15.042856Z",
     "shell.execute_reply": "2024-12-30T09:37:15.041642Z"
    },
    "papermill": {
     "duration": 0.049495,
     "end_time": "2024-12-30T09:37:15.045095",
     "exception": false,
     "start_time": "2024-12-30T09:37:14.995600",
     "status": "completed"
    },
    "tags": []
   },
   "outputs": [],
   "source": [
    "# Handling Test Data\n",
    "for column in test_df.columns:\n",
    "    if test_df[column].isnull().sum() > 0:  # Check if the column has missing values\n",
    "        if test_df[column].dtype in ['int64', 'float64']:  # Numerical columns\n",
    "            test_df[column] = test_df[column].fillna(test_df[column].mean())\n",
    "        else:  # Categorical columns\n",
    "            test_df[column] = test_df[column].fillna(test_df[column].mode()[0])"
   ]
  },
  {
   "cell_type": "code",
   "execution_count": 7,
   "id": "489660ce",
   "metadata": {
    "execution": {
     "iopub.execute_input": "2024-12-30T09:37:15.055053Z",
     "iopub.status.busy": "2024-12-30T09:37:15.054682Z",
     "iopub.status.idle": "2024-12-30T09:37:15.083374Z",
     "shell.execute_reply": "2024-12-30T09:37:15.082121Z"
    },
    "papermill": {
     "duration": 0.036057,
     "end_time": "2024-12-30T09:37:15.085482",
     "exception": false,
     "start_time": "2024-12-30T09:37:15.049425",
     "status": "completed"
    },
    "tags": []
   },
   "outputs": [],
   "source": [
    "# Combining train and test data\n",
    "final_df = pd.concat([df, test_df], axis=0).reset_index(drop=True)"
   ]
  },
  {
   "cell_type": "code",
   "execution_count": 8,
   "id": "8e28c368",
   "metadata": {
    "execution": {
     "iopub.execute_input": "2024-12-30T09:37:15.095636Z",
     "iopub.status.busy": "2024-12-30T09:37:15.095206Z",
     "iopub.status.idle": "2024-12-30T09:37:15.101452Z",
     "shell.execute_reply": "2024-12-30T09:37:15.100207Z"
    },
    "papermill": {
     "duration": 0.013405,
     "end_time": "2024-12-30T09:37:15.103305",
     "exception": false,
     "start_time": "2024-12-30T09:37:15.089900",
     "status": "completed"
    },
    "tags": []
   },
   "outputs": [],
   "source": [
    "# Categorical Encoding\n",
    "def category_onehot_multicols(multicolumns):\n",
    "    df_final = final_df\n",
    "    i = 0\n",
    "    for fields in multicolumns:\n",
    "        df1 = pd.get_dummies(final_df[fields], drop_first=True)\n",
    "        final_df.drop([fields], axis=1, inplace=True)\n",
    "        if i == 0:\n",
    "            df_final = df1.copy()\n",
    "        else:\n",
    "            df_final = pd.concat([df_final, df1], axis=1)\n",
    "        i += 1\n",
    "    df_final = pd.concat([final_df, df_final], axis=1)\n",
    "    return df_final"
   ]
  },
  {
   "cell_type": "code",
   "execution_count": 9,
   "id": "4bed1c72",
   "metadata": {
    "execution": {
     "iopub.execute_input": "2024-12-30T09:37:15.113477Z",
     "iopub.status.busy": "2024-12-30T09:37:15.113056Z",
     "iopub.status.idle": "2024-12-30T09:37:15.234949Z",
     "shell.execute_reply": "2024-12-30T09:37:15.233377Z"
    },
    "papermill": {
     "duration": 0.129378,
     "end_time": "2024-12-30T09:37:15.237083",
     "exception": false,
     "start_time": "2024-12-30T09:37:15.107705",
     "status": "completed"
    },
    "tags": []
   },
   "outputs": [],
   "source": [
    "# Identifying categorical columns for encoding\n",
    "columns = [col for col in final_df.columns if final_df[col].dtype == 'object']\n",
    "final_df = category_onehot_multicols(columns)"
   ]
  },
  {
   "cell_type": "code",
   "execution_count": 10,
   "id": "be6e5496",
   "metadata": {
    "execution": {
     "iopub.execute_input": "2024-12-30T09:37:15.247347Z",
     "iopub.status.busy": "2024-12-30T09:37:15.246865Z",
     "iopub.status.idle": "2024-12-30T09:37:15.253914Z",
     "shell.execute_reply": "2024-12-30T09:37:15.252659Z"
    },
    "papermill": {
     "duration": 0.014374,
     "end_time": "2024-12-30T09:37:15.255935",
     "exception": false,
     "start_time": "2024-12-30T09:37:15.241561",
     "status": "completed"
    },
    "tags": []
   },
   "outputs": [],
   "source": [
    "# Remove duplicate columns\n",
    "final_df = final_df.loc[:, ~final_df.columns.duplicated()]"
   ]
  },
  {
   "cell_type": "code",
   "execution_count": 11,
   "id": "3ccec881",
   "metadata": {
    "execution": {
     "iopub.execute_input": "2024-12-30T09:37:15.266834Z",
     "iopub.status.busy": "2024-12-30T09:37:15.266466Z",
     "iopub.status.idle": "2024-12-30T09:37:15.271723Z",
     "shell.execute_reply": "2024-12-30T09:37:15.270544Z"
    },
    "papermill": {
     "duration": 0.012725,
     "end_time": "2024-12-30T09:37:15.273574",
     "exception": false,
     "start_time": "2024-12-30T09:37:15.260849",
     "status": "completed"
    },
    "tags": []
   },
   "outputs": [],
   "source": [
    "# Splitting back into train and test\n",
    "df_train = final_df.iloc[:len(df), :]\n",
    "df_test = final_df.iloc[len(df):, :]"
   ]
  },
  {
   "cell_type": "code",
   "execution_count": 12,
   "id": "add23e6e",
   "metadata": {
    "execution": {
     "iopub.execute_input": "2024-12-30T09:37:15.284006Z",
     "iopub.status.busy": "2024-12-30T09:37:15.283611Z",
     "iopub.status.idle": "2024-12-30T09:37:15.290852Z",
     "shell.execute_reply": "2024-12-30T09:37:15.289754Z"
    },
    "papermill": {
     "duration": 0.014816,
     "end_time": "2024-12-30T09:37:15.292971",
     "exception": false,
     "start_time": "2024-12-30T09:37:15.278155",
     "status": "completed"
    },
    "tags": []
   },
   "outputs": [
    {
     "name": "stderr",
     "output_type": "stream",
     "text": [
      "<ipython-input-12-ece0c0f78737>:3: SettingWithCopyWarning: \n",
      "A value is trying to be set on a copy of a slice from a DataFrame\n",
      "\n",
      "See the caveats in the documentation: https://pandas.pydata.org/pandas-docs/stable/user_guide/indexing.html#returning-a-view-versus-a-copy\n",
      "  df_test.drop(['SalePrice'], axis=1, inplace=True)\n"
     ]
    }
   ],
   "source": [
    "# Drop SalePrice from test data\n",
    "if 'SalePrice' in df_test.columns:\n",
    "    df_test.drop(['SalePrice'], axis=1, inplace=True)"
   ]
  },
  {
   "cell_type": "code",
   "execution_count": 13,
   "id": "e379b03b",
   "metadata": {
    "execution": {
     "iopub.execute_input": "2024-12-30T09:37:15.303603Z",
     "iopub.status.busy": "2024-12-30T09:37:15.303169Z",
     "iopub.status.idle": "2024-12-30T09:37:15.315839Z",
     "shell.execute_reply": "2024-12-30T09:37:15.314413Z"
    },
    "papermill": {
     "duration": 0.020246,
     "end_time": "2024-12-30T09:37:15.318136",
     "exception": false,
     "start_time": "2024-12-30T09:37:15.297890",
     "status": "completed"
    },
    "tags": []
   },
   "outputs": [],
   "source": [
    "# Splitting features and target\n",
    "X_train = df_train.drop(['SalePrice'], axis=1)\n",
    "y_train = df_train['SalePrice']\n",
    "\n",
    "# Train-Test Split for Validation\n",
    "X_train, X_val, y_train, y_val = train_test_split(X_train, y_train, test_size=0.2, random_state=42)"
   ]
  },
  {
   "cell_type": "code",
   "execution_count": 14,
   "id": "27fae7e7",
   "metadata": {
    "execution": {
     "iopub.execute_input": "2024-12-30T09:37:15.328863Z",
     "iopub.status.busy": "2024-12-30T09:37:15.328481Z",
     "iopub.status.idle": "2024-12-30T09:37:16.147435Z",
     "shell.execute_reply": "2024-12-30T09:37:16.146095Z"
    },
    "papermill": {
     "duration": 0.826883,
     "end_time": "2024-12-30T09:37:16.149648",
     "exception": false,
     "start_time": "2024-12-30T09:37:15.322765",
     "status": "completed"
    },
    "tags": []
   },
   "outputs": [
    {
     "name": "stdout",
     "output_type": "stream",
     "text": [
      "Validation RMSE: 25544.550188057874\n"
     ]
    }
   ],
   "source": [
    "# XGBoost Model\n",
    "classifier = xgboost.XGBRegressor(random_state=42)\n",
    "classifier.fit(X_train, y_train)\n",
    "\n",
    "# Validate the model\n",
    "y_pred = classifier.predict(X_val)\n",
    "rmse = mean_squared_error(y_val, y_pred, squared=False)\n",
    "print(f\"Validation RMSE: {rmse}\")"
   ]
  },
  {
   "cell_type": "code",
   "execution_count": 15,
   "id": "ab73a03e",
   "metadata": {
    "execution": {
     "iopub.execute_input": "2024-12-30T09:37:16.160213Z",
     "iopub.status.busy": "2024-12-30T09:37:16.159726Z",
     "iopub.status.idle": "2024-12-30T09:37:16.200722Z",
     "shell.execute_reply": "2024-12-30T09:37:16.199797Z"
    },
    "papermill": {
     "duration": 0.048777,
     "end_time": "2024-12-30T09:37:16.203048",
     "exception": false,
     "start_time": "2024-12-30T09:37:16.154271",
     "status": "completed"
    },
    "tags": []
   },
   "outputs": [],
   "source": [
    "# Final Predictions\n",
    "final_predictions = classifier.predict(df_test)"
   ]
  },
  {
   "cell_type": "code",
   "execution_count": 16,
   "id": "7899786f",
   "metadata": {
    "execution": {
     "iopub.execute_input": "2024-12-30T09:37:16.213943Z",
     "iopub.status.busy": "2024-12-30T09:37:16.213502Z",
     "iopub.status.idle": "2024-12-30T09:37:16.226361Z",
     "shell.execute_reply": "2024-12-30T09:37:16.224952Z"
    },
    "papermill": {
     "duration": 0.020938,
     "end_time": "2024-12-30T09:37:16.228629",
     "exception": false,
     "start_time": "2024-12-30T09:37:16.207691",
     "status": "completed"
    },
    "tags": []
   },
   "outputs": [],
   "source": [
    "# Creating submission file\n",
    "submission = pd.DataFrame({'Id': test_df['Id'], 'SalePrice': final_predictions})\n",
    "submission.to_csv('submission.csv', index=False)"
   ]
  },
  {
   "cell_type": "markdown",
   "id": "e933f83b",
   "metadata": {
    "papermill": {
     "duration": 0.004338,
     "end_time": "2024-12-30T09:37:16.237618",
     "exception": false,
     "start_time": "2024-12-30T09:37:16.233280",
     "status": "completed"
    },
    "tags": []
   },
   "source": []
  }
 ],
 "metadata": {
  "kaggle": {
   "accelerator": "none",
   "dataSources": [
    {
     "databundleVersionId": 868283,
     "sourceId": 5407,
     "sourceType": "competition"
    }
   ],
   "dockerImageVersionId": 30822,
   "isGpuEnabled": false,
   "isInternetEnabled": true,
   "language": "python",
   "sourceType": "notebook"
  },
  "kernelspec": {
   "display_name": "Python 3",
   "language": "python",
   "name": "python3"
  },
  "language_info": {
   "codemirror_mode": {
    "name": "ipython",
    "version": 3
   },
   "file_extension": ".py",
   "mimetype": "text/x-python",
   "name": "python",
   "nbconvert_exporter": "python",
   "pygments_lexer": "ipython3",
   "version": "3.10.12"
  },
  "papermill": {
   "default_parameters": {},
   "duration": 8.053464,
   "end_time": "2024-12-30T09:37:16.963817",
   "environment_variables": {},
   "exception": null,
   "input_path": "__notebook__.ipynb",
   "output_path": "__notebook__.ipynb",
   "parameters": {},
   "start_time": "2024-12-30T09:37:08.910353",
   "version": "2.6.0"
  }
 },
 "nbformat": 4,
 "nbformat_minor": 5
}
